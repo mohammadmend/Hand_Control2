{
 "cells": [
  {
   "cell_type": "code",
   "execution_count": 1,
   "metadata": {},
   "outputs": [
    {
     "ename": "",
     "evalue": "",
     "output_type": "error",
     "traceback": [
      "\u001b[1;31mThe Kernel crashed while executing code in the current cell or a previous cell. \n",
      "\u001b[1;31mPlease review the code in the cell(s) to identify a possible cause of the failure. \n",
      "\u001b[1;31mClick <a href='https://aka.ms/vscodeJupyterKernelCrash'>here</a> for more info. \n",
      "\u001b[1;31mView Jupyter <a href='command:jupyter.viewOutput'>log</a> for further details."
     ]
    }
   ],
   "source": [
    "import cv2 as cv\n",
    "import mediapipe as mp \n",
    "import csv\n",
    "mphand=mp.solutions.hands\n",
    "hands=mphand.Hands()\n",
    "mpdraw=mp.solutions.drawing_utils\n",
    "with open('hand_Data.csv',mode='w',newline='')as file:\n",
    "    writer=csv.writer(file)\n",
    "    writer.writerow(['gesture'] + [f'x{i}' for i in range(21)] + [f'y{i}' for i in range(21)] + [f'z{i}' for i in range(21)])\n",
    "    cap=cv.VideoCapture(1)\n",
    "    while True:\n",
    "        ret,frame=cap.read()\n",
    "        frame_rgb = cv.cvtColor(frame, cv.COLOR_BGR2RGB)\n",
    "        result = hands.process(frame_rgb)\n",
    "        cv.imshow('Hand Gesture Capture', frame)\n",
    "        if result.multi_hand_landmarks:\n",
    "            for hand_landmarks in result.multi_hand_landmarks:\n",
    "                land=[]\n",
    "                for lm in hand_landmarks.landmark:\n",
    "                    land.extend([lm.x,lm.y,lm.z])\n",
    "                    print(\"what gesture MO\")\n",
    "                    label=input()\n",
    "                    writer.writerow([label]+land)\n",
    "        if cv.waitKey(1)==ord(\"q\"):break\n",
    "\n"
   ]
  }
 ],
 "metadata": {
  "kernelspec": {
   "display_name": "breast",
   "language": "python",
   "name": "python3"
  },
  "language_info": {
   "codemirror_mode": {
    "name": "ipython",
    "version": 3
   },
   "file_extension": ".py",
   "mimetype": "text/x-python",
   "name": "python",
   "nbconvert_exporter": "python",
   "pygments_lexer": "ipython3",
   "version": "3.8.19"
  }
 },
 "nbformat": 4,
 "nbformat_minor": 2
}
